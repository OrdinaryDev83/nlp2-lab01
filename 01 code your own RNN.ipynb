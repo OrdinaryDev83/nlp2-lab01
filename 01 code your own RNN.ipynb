{
  "metadata": {
    "deepnote": {},
    "kernelspec": {
      "name": "python3",
      "language": "python",
      "display_name": "Python 3 (ipykernel)"
    },
    "language_info": {
      "name": "python",
      "version": "3.10.4",
      "mimetype": "text/x-python",
      "file_extension": ".py",
      "pygments_lexer": "ipython3",
      "codemirror_mode": {
        "name": "ipython",
        "version": 3
      },
      "nbconvert_exporter": "python"
    },
    "deepnote_notebook_id": "c35f6685aef741248e0929157f5b1bb8",
    "deepnote_persisted_session": {
      "createdAt": "2023-05-16T11:30:10.926Z"
    },
    "deepnote_execution_queue": [],
    "colab": {
      "provenance": [],
      "gpuType": "T4"
    },
    "accelerator": "GPU",
    "gpuClass": "standard",
    "widgets": {
      "application/vnd.jupyter.widget-state+json": {
        "b8790a355c474cbc8dddccd383082e08": {
          "model_module": "@jupyter-widgets/controls",
          "model_name": "HBoxModel",
          "model_module_version": "1.5.0",
          "state": {
            "_dom_classes": [],
            "_model_module": "@jupyter-widgets/controls",
            "_model_module_version": "1.5.0",
            "_model_name": "HBoxModel",
            "_view_count": null,
            "_view_module": "@jupyter-widgets/controls",
            "_view_module_version": "1.5.0",
            "_view_name": "HBoxView",
            "box_style": "",
            "children": [
              "IPY_MODEL_594a545473e24e558a8be4533baed0df",
              "IPY_MODEL_ffd3256a1d6d4dcf8023fb437573224c",
              "IPY_MODEL_f48d6056c13244e4bdbaf63a7abfe327"
            ],
            "layout": "IPY_MODEL_93f50cc3de574e959c7f4c26142d0859"
          }
        },
        "594a545473e24e558a8be4533baed0df": {
          "model_module": "@jupyter-widgets/controls",
          "model_name": "HTMLModel",
          "model_module_version": "1.5.0",
          "state": {
            "_dom_classes": [],
            "_model_module": "@jupyter-widgets/controls",
            "_model_module_version": "1.5.0",
            "_model_name": "HTMLModel",
            "_view_count": null,
            "_view_module": "@jupyter-widgets/controls",
            "_view_module_version": "1.5.0",
            "_view_name": "HTMLView",
            "description": "",
            "description_tooltip": null,
            "layout": "IPY_MODEL_cd640b0ce6c54118933c2c70f4260ed0",
            "placeholder": "​",
            "style": "IPY_MODEL_a803cc6b80a64581a3f2b7ee7fbdfab9",
            "value": "100%"
          }
        },
        "ffd3256a1d6d4dcf8023fb437573224c": {
          "model_module": "@jupyter-widgets/controls",
          "model_name": "FloatProgressModel",
          "model_module_version": "1.5.0",
          "state": {
            "_dom_classes": [],
            "_model_module": "@jupyter-widgets/controls",
            "_model_module_version": "1.5.0",
            "_model_name": "FloatProgressModel",
            "_view_count": null,
            "_view_module": "@jupyter-widgets/controls",
            "_view_module_version": "1.5.0",
            "_view_name": "ProgressView",
            "bar_style": "success",
            "description": "",
            "description_tooltip": null,
            "layout": "IPY_MODEL_dd9e7b6170ea48e6b9f7b9d28b4fd48a",
            "max": 3,
            "min": 0,
            "orientation": "horizontal",
            "style": "IPY_MODEL_efb75567729b45ecabf322270a0055b7",
            "value": 3
          }
        },
        "f48d6056c13244e4bdbaf63a7abfe327": {
          "model_module": "@jupyter-widgets/controls",
          "model_name": "HTMLModel",
          "model_module_version": "1.5.0",
          "state": {
            "_dom_classes": [],
            "_model_module": "@jupyter-widgets/controls",
            "_model_module_version": "1.5.0",
            "_model_name": "HTMLModel",
            "_view_count": null,
            "_view_module": "@jupyter-widgets/controls",
            "_view_module_version": "1.5.0",
            "_view_name": "HTMLView",
            "description": "",
            "description_tooltip": null,
            "layout": "IPY_MODEL_6239aca77cd949418b3bd68b5b035ebd",
            "placeholder": "​",
            "style": "IPY_MODEL_86ef9aa6670548d998c43b4b0e83d9dd",
            "value": " 3/3 [00:00&lt;00:00, 128.52it/s]"
          }
        },
        "93f50cc3de574e959c7f4c26142d0859": {
          "model_module": "@jupyter-widgets/base",
          "model_name": "LayoutModel",
          "model_module_version": "1.2.0",
          "state": {
            "_model_module": "@jupyter-widgets/base",
            "_model_module_version": "1.2.0",
            "_model_name": "LayoutModel",
            "_view_count": null,
            "_view_module": "@jupyter-widgets/base",
            "_view_module_version": "1.2.0",
            "_view_name": "LayoutView",
            "align_content": null,
            "align_items": null,
            "align_self": null,
            "border": null,
            "bottom": null,
            "display": null,
            "flex": null,
            "flex_flow": null,
            "grid_area": null,
            "grid_auto_columns": null,
            "grid_auto_flow": null,
            "grid_auto_rows": null,
            "grid_column": null,
            "grid_gap": null,
            "grid_row": null,
            "grid_template_areas": null,
            "grid_template_columns": null,
            "grid_template_rows": null,
            "height": null,
            "justify_content": null,
            "justify_items": null,
            "left": null,
            "margin": null,
            "max_height": null,
            "max_width": null,
            "min_height": null,
            "min_width": null,
            "object_fit": null,
            "object_position": null,
            "order": null,
            "overflow": null,
            "overflow_x": null,
            "overflow_y": null,
            "padding": null,
            "right": null,
            "top": null,
            "visibility": null,
            "width": null
          }
        },
        "cd640b0ce6c54118933c2c70f4260ed0": {
          "model_module": "@jupyter-widgets/base",
          "model_name": "LayoutModel",
          "model_module_version": "1.2.0",
          "state": {
            "_model_module": "@jupyter-widgets/base",
            "_model_module_version": "1.2.0",
            "_model_name": "LayoutModel",
            "_view_count": null,
            "_view_module": "@jupyter-widgets/base",
            "_view_module_version": "1.2.0",
            "_view_name": "LayoutView",
            "align_content": null,
            "align_items": null,
            "align_self": null,
            "border": null,
            "bottom": null,
            "display": null,
            "flex": null,
            "flex_flow": null,
            "grid_area": null,
            "grid_auto_columns": null,
            "grid_auto_flow": null,
            "grid_auto_rows": null,
            "grid_column": null,
            "grid_gap": null,
            "grid_row": null,
            "grid_template_areas": null,
            "grid_template_columns": null,
            "grid_template_rows": null,
            "height": null,
            "justify_content": null,
            "justify_items": null,
            "left": null,
            "margin": null,
            "max_height": null,
            "max_width": null,
            "min_height": null,
            "min_width": null,
            "object_fit": null,
            "object_position": null,
            "order": null,
            "overflow": null,
            "overflow_x": null,
            "overflow_y": null,
            "padding": null,
            "right": null,
            "top": null,
            "visibility": null,
            "width": null
          }
        },
        "a803cc6b80a64581a3f2b7ee7fbdfab9": {
          "model_module": "@jupyter-widgets/controls",
          "model_name": "DescriptionStyleModel",
          "model_module_version": "1.5.0",
          "state": {
            "_model_module": "@jupyter-widgets/controls",
            "_model_module_version": "1.5.0",
            "_model_name": "DescriptionStyleModel",
            "_view_count": null,
            "_view_module": "@jupyter-widgets/base",
            "_view_module_version": "1.2.0",
            "_view_name": "StyleView",
            "description_width": ""
          }
        },
        "dd9e7b6170ea48e6b9f7b9d28b4fd48a": {
          "model_module": "@jupyter-widgets/base",
          "model_name": "LayoutModel",
          "model_module_version": "1.2.0",
          "state": {
            "_model_module": "@jupyter-widgets/base",
            "_model_module_version": "1.2.0",
            "_model_name": "LayoutModel",
            "_view_count": null,
            "_view_module": "@jupyter-widgets/base",
            "_view_module_version": "1.2.0",
            "_view_name": "LayoutView",
            "align_content": null,
            "align_items": null,
            "align_self": null,
            "border": null,
            "bottom": null,
            "display": null,
            "flex": null,
            "flex_flow": null,
            "grid_area": null,
            "grid_auto_columns": null,
            "grid_auto_flow": null,
            "grid_auto_rows": null,
            "grid_column": null,
            "grid_gap": null,
            "grid_row": null,
            "grid_template_areas": null,
            "grid_template_columns": null,
            "grid_template_rows": null,
            "height": null,
            "justify_content": null,
            "justify_items": null,
            "left": null,
            "margin": null,
            "max_height": null,
            "max_width": null,
            "min_height": null,
            "min_width": null,
            "object_fit": null,
            "object_position": null,
            "order": null,
            "overflow": null,
            "overflow_x": null,
            "overflow_y": null,
            "padding": null,
            "right": null,
            "top": null,
            "visibility": null,
            "width": null
          }
        },
        "efb75567729b45ecabf322270a0055b7": {
          "model_module": "@jupyter-widgets/controls",
          "model_name": "ProgressStyleModel",
          "model_module_version": "1.5.0",
          "state": {
            "_model_module": "@jupyter-widgets/controls",
            "_model_module_version": "1.5.0",
            "_model_name": "ProgressStyleModel",
            "_view_count": null,
            "_view_module": "@jupyter-widgets/base",
            "_view_module_version": "1.2.0",
            "_view_name": "StyleView",
            "bar_color": null,
            "description_width": ""
          }
        },
        "6239aca77cd949418b3bd68b5b035ebd": {
          "model_module": "@jupyter-widgets/base",
          "model_name": "LayoutModel",
          "model_module_version": "1.2.0",
          "state": {
            "_model_module": "@jupyter-widgets/base",
            "_model_module_version": "1.2.0",
            "_model_name": "LayoutModel",
            "_view_count": null,
            "_view_module": "@jupyter-widgets/base",
            "_view_module_version": "1.2.0",
            "_view_name": "LayoutView",
            "align_content": null,
            "align_items": null,
            "align_self": null,
            "border": null,
            "bottom": null,
            "display": null,
            "flex": null,
            "flex_flow": null,
            "grid_area": null,
            "grid_auto_columns": null,
            "grid_auto_flow": null,
            "grid_auto_rows": null,
            "grid_column": null,
            "grid_gap": null,
            "grid_row": null,
            "grid_template_areas": null,
            "grid_template_columns": null,
            "grid_template_rows": null,
            "height": null,
            "justify_content": null,
            "justify_items": null,
            "left": null,
            "margin": null,
            "max_height": null,
            "max_width": null,
            "min_height": null,
            "min_width": null,
            "object_fit": null,
            "object_position": null,
            "order": null,
            "overflow": null,
            "overflow_x": null,
            "overflow_y": null,
            "padding": null,
            "right": null,
            "top": null,
            "visibility": null,
            "width": null
          }
        },
        "86ef9aa6670548d998c43b4b0e83d9dd": {
          "model_module": "@jupyter-widgets/controls",
          "model_name": "DescriptionStyleModel",
          "model_module_version": "1.5.0",
          "state": {
            "_model_module": "@jupyter-widgets/controls",
            "_model_module_version": "1.5.0",
            "_model_name": "DescriptionStyleModel",
            "_view_count": null,
            "_view_module": "@jupyter-widgets/base",
            "_view_module_version": "1.2.0",
            "_view_name": "StyleView",
            "description_width": ""
          }
        },
        "f788e8e8bf374dea95fa03dcce539fb9": {
          "model_module": "@jupyter-widgets/controls",
          "model_name": "HBoxModel",
          "model_module_version": "1.5.0",
          "state": {
            "_dom_classes": [],
            "_model_module": "@jupyter-widgets/controls",
            "_model_module_version": "1.5.0",
            "_model_name": "HBoxModel",
            "_view_count": null,
            "_view_module": "@jupyter-widgets/controls",
            "_view_module_version": "1.5.0",
            "_view_name": "HBoxView",
            "box_style": "",
            "children": [
              "IPY_MODEL_0ba015901942474bbfd5bb84f9d95ad4",
              "IPY_MODEL_30404f84d3e84e8ba94372f3835610b7",
              "IPY_MODEL_a6dddbdce37c48bcaf2e55aad633860b"
            ],
            "layout": "IPY_MODEL_932d0f18c9fa44a3aa0cc98a9060392f"
          }
        },
        "0ba015901942474bbfd5bb84f9d95ad4": {
          "model_module": "@jupyter-widgets/controls",
          "model_name": "HTMLModel",
          "model_module_version": "1.5.0",
          "state": {
            "_dom_classes": [],
            "_model_module": "@jupyter-widgets/controls",
            "_model_module_version": "1.5.0",
            "_model_name": "HTMLModel",
            "_view_count": null,
            "_view_module": "@jupyter-widgets/controls",
            "_view_module_version": "1.5.0",
            "_view_name": "HTMLView",
            "description": "",
            "description_tooltip": null,
            "layout": "IPY_MODEL_1befcf581c1c4cf9863ea9b9d256151d",
            "placeholder": "​",
            "style": "IPY_MODEL_1e11362901cf4d5698009186f58d9232",
            "value": "100%"
          }
        },
        "30404f84d3e84e8ba94372f3835610b7": {
          "model_module": "@jupyter-widgets/controls",
          "model_name": "FloatProgressModel",
          "model_module_version": "1.5.0",
          "state": {
            "_dom_classes": [],
            "_model_module": "@jupyter-widgets/controls",
            "_model_module_version": "1.5.0",
            "_model_name": "FloatProgressModel",
            "_view_count": null,
            "_view_module": "@jupyter-widgets/controls",
            "_view_module_version": "1.5.0",
            "_view_name": "ProgressView",
            "bar_style": "success",
            "description": "",
            "description_tooltip": null,
            "layout": "IPY_MODEL_c8f89bf1e0ad4df4a5504e82456d96bb",
            "max": 20000,
            "min": 0,
            "orientation": "horizontal",
            "style": "IPY_MODEL_877368cec08c469f972037ded26de2d2",
            "value": 20000
          }
        },
        "a6dddbdce37c48bcaf2e55aad633860b": {
          "model_module": "@jupyter-widgets/controls",
          "model_name": "HTMLModel",
          "model_module_version": "1.5.0",
          "state": {
            "_dom_classes": [],
            "_model_module": "@jupyter-widgets/controls",
            "_model_module_version": "1.5.0",
            "_model_name": "HTMLModel",
            "_view_count": null,
            "_view_module": "@jupyter-widgets/controls",
            "_view_module_version": "1.5.0",
            "_view_name": "HTMLView",
            "description": "",
            "description_tooltip": null,
            "layout": "IPY_MODEL_4fc5be1a96a14c1eb92a071d59b0b832",
            "placeholder": "​",
            "style": "IPY_MODEL_ee380e65b4eb4422ae54b770bb41526f",
            "value": " 20000/20000 [00:10&lt;00:00, 2245.02it/s]"
          }
        },
        "932d0f18c9fa44a3aa0cc98a9060392f": {
          "model_module": "@jupyter-widgets/base",
          "model_name": "LayoutModel",
          "model_module_version": "1.2.0",
          "state": {
            "_model_module": "@jupyter-widgets/base",
            "_model_module_version": "1.2.0",
            "_model_name": "LayoutModel",
            "_view_count": null,
            "_view_module": "@jupyter-widgets/base",
            "_view_module_version": "1.2.0",
            "_view_name": "LayoutView",
            "align_content": null,
            "align_items": null,
            "align_self": null,
            "border": null,
            "bottom": null,
            "display": null,
            "flex": null,
            "flex_flow": null,
            "grid_area": null,
            "grid_auto_columns": null,
            "grid_auto_flow": null,
            "grid_auto_rows": null,
            "grid_column": null,
            "grid_gap": null,
            "grid_row": null,
            "grid_template_areas": null,
            "grid_template_columns": null,
            "grid_template_rows": null,
            "height": null,
            "justify_content": null,
            "justify_items": null,
            "left": null,
            "margin": null,
            "max_height": null,
            "max_width": null,
            "min_height": null,
            "min_width": null,
            "object_fit": null,
            "object_position": null,
            "order": null,
            "overflow": null,
            "overflow_x": null,
            "overflow_y": null,
            "padding": null,
            "right": null,
            "top": null,
            "visibility": null,
            "width": null
          }
        },
        "1befcf581c1c4cf9863ea9b9d256151d": {
          "model_module": "@jupyter-widgets/base",
          "model_name": "LayoutModel",
          "model_module_version": "1.2.0",
          "state": {
            "_model_module": "@jupyter-widgets/base",
            "_model_module_version": "1.2.0",
            "_model_name": "LayoutModel",
            "_view_count": null,
            "_view_module": "@jupyter-widgets/base",
            "_view_module_version": "1.2.0",
            "_view_name": "LayoutView",
            "align_content": null,
            "align_items": null,
            "align_self": null,
            "border": null,
            "bottom": null,
            "display": null,
            "flex": null,
            "flex_flow": null,
            "grid_area": null,
            "grid_auto_columns": null,
            "grid_auto_flow": null,
            "grid_auto_rows": null,
            "grid_column": null,
            "grid_gap": null,
            "grid_row": null,
            "grid_template_areas": null,
            "grid_template_columns": null,
            "grid_template_rows": null,
            "height": null,
            "justify_content": null,
            "justify_items": null,
            "left": null,
            "margin": null,
            "max_height": null,
            "max_width": null,
            "min_height": null,
            "min_width": null,
            "object_fit": null,
            "object_position": null,
            "order": null,
            "overflow": null,
            "overflow_x": null,
            "overflow_y": null,
            "padding": null,
            "right": null,
            "top": null,
            "visibility": null,
            "width": null
          }
        },
        "1e11362901cf4d5698009186f58d9232": {
          "model_module": "@jupyter-widgets/controls",
          "model_name": "DescriptionStyleModel",
          "model_module_version": "1.5.0",
          "state": {
            "_model_module": "@jupyter-widgets/controls",
            "_model_module_version": "1.5.0",
            "_model_name": "DescriptionStyleModel",
            "_view_count": null,
            "_view_module": "@jupyter-widgets/base",
            "_view_module_version": "1.2.0",
            "_view_name": "StyleView",
            "description_width": ""
          }
        },
        "c8f89bf1e0ad4df4a5504e82456d96bb": {
          "model_module": "@jupyter-widgets/base",
          "model_name": "LayoutModel",
          "model_module_version": "1.2.0",
          "state": {
            "_model_module": "@jupyter-widgets/base",
            "_model_module_version": "1.2.0",
            "_model_name": "LayoutModel",
            "_view_count": null,
            "_view_module": "@jupyter-widgets/base",
            "_view_module_version": "1.2.0",
            "_view_name": "LayoutView",
            "align_content": null,
            "align_items": null,
            "align_self": null,
            "border": null,
            "bottom": null,
            "display": null,
            "flex": null,
            "flex_flow": null,
            "grid_area": null,
            "grid_auto_columns": null,
            "grid_auto_flow": null,
            "grid_auto_rows": null,
            "grid_column": null,
            "grid_gap": null,
            "grid_row": null,
            "grid_template_areas": null,
            "grid_template_columns": null,
            "grid_template_rows": null,
            "height": null,
            "justify_content": null,
            "justify_items": null,
            "left": null,
            "margin": null,
            "max_height": null,
            "max_width": null,
            "min_height": null,
            "min_width": null,
            "object_fit": null,
            "object_position": null,
            "order": null,
            "overflow": null,
            "overflow_x": null,
            "overflow_y": null,
            "padding": null,
            "right": null,
            "top": null,
            "visibility": null,
            "width": null
          }
        },
        "877368cec08c469f972037ded26de2d2": {
          "model_module": "@jupyter-widgets/controls",
          "model_name": "ProgressStyleModel",
          "model_module_version": "1.5.0",
          "state": {
            "_model_module": "@jupyter-widgets/controls",
            "_model_module_version": "1.5.0",
            "_model_name": "ProgressStyleModel",
            "_view_count": null,
            "_view_module": "@jupyter-widgets/base",
            "_view_module_version": "1.2.0",
            "_view_name": "StyleView",
            "bar_color": null,
            "description_width": ""
          }
        },
        "4fc5be1a96a14c1eb92a071d59b0b832": {
          "model_module": "@jupyter-widgets/base",
          "model_name": "LayoutModel",
          "model_module_version": "1.2.0",
          "state": {
            "_model_module": "@jupyter-widgets/base",
            "_model_module_version": "1.2.0",
            "_model_name": "LayoutModel",
            "_view_count": null,
            "_view_module": "@jupyter-widgets/base",
            "_view_module_version": "1.2.0",
            "_view_name": "LayoutView",
            "align_content": null,
            "align_items": null,
            "align_self": null,
            "border": null,
            "bottom": null,
            "display": null,
            "flex": null,
            "flex_flow": null,
            "grid_area": null,
            "grid_auto_columns": null,
            "grid_auto_flow": null,
            "grid_auto_rows": null,
            "grid_column": null,
            "grid_gap": null,
            "grid_row": null,
            "grid_template_areas": null,
            "grid_template_columns": null,
            "grid_template_rows": null,
            "height": null,
            "justify_content": null,
            "justify_items": null,
            "left": null,
            "margin": null,
            "max_height": null,
            "max_width": null,
            "min_height": null,
            "min_width": null,
            "object_fit": null,
            "object_position": null,
            "order": null,
            "overflow": null,
            "overflow_x": null,
            "overflow_y": null,
            "padding": null,
            "right": null,
            "top": null,
            "visibility": null,
            "width": null
          }
        },
        "ee380e65b4eb4422ae54b770bb41526f": {
          "model_module": "@jupyter-widgets/controls",
          "model_name": "DescriptionStyleModel",
          "model_module_version": "1.5.0",
          "state": {
            "_model_module": "@jupyter-widgets/controls",
            "_model_module_version": "1.5.0",
            "_model_name": "DescriptionStyleModel",
            "_view_count": null,
            "_view_module": "@jupyter-widgets/base",
            "_view_module_version": "1.2.0",
            "_view_name": "StyleView",
            "description_width": ""
          }
        },
        "6f4d003b57474467af3d8b4a99043279": {
          "model_module": "@jupyter-widgets/controls",
          "model_name": "HBoxModel",
          "model_module_version": "1.5.0",
          "state": {
            "_dom_classes": [],
            "_model_module": "@jupyter-widgets/controls",
            "_model_module_version": "1.5.0",
            "_model_name": "HBoxModel",
            "_view_count": null,
            "_view_module": "@jupyter-widgets/controls",
            "_view_module_version": "1.5.0",
            "_view_name": "HBoxView",
            "box_style": "",
            "children": [
              "IPY_MODEL_5e82ea04e2ae4266b260a84f84bdcfa8",
              "IPY_MODEL_0f3f29fb0d23460b96057b69105cb3c0",
              "IPY_MODEL_757b708472ca4ea09d826f778b8d26a7"
            ],
            "layout": "IPY_MODEL_e30a0b8edc394c84b84c9b3497a9def2"
          }
        },
        "5e82ea04e2ae4266b260a84f84bdcfa8": {
          "model_module": "@jupyter-widgets/controls",
          "model_name": "HTMLModel",
          "model_module_version": "1.5.0",
          "state": {
            "_dom_classes": [],
            "_model_module": "@jupyter-widgets/controls",
            "_model_module_version": "1.5.0",
            "_model_name": "HTMLModel",
            "_view_count": null,
            "_view_module": "@jupyter-widgets/controls",
            "_view_module_version": "1.5.0",
            "_view_name": "HTMLView",
            "description": "",
            "description_tooltip": null,
            "layout": "IPY_MODEL_2fee69f54ea5403e9c266350377ba6d8",
            "placeholder": "​",
            "style": "IPY_MODEL_34d4061ef8ad42bcacbe0084e4d92bb1",
            "value": "100%"
          }
        },
        "0f3f29fb0d23460b96057b69105cb3c0": {
          "model_module": "@jupyter-widgets/controls",
          "model_name": "FloatProgressModel",
          "model_module_version": "1.5.0",
          "state": {
            "_dom_classes": [],
            "_model_module": "@jupyter-widgets/controls",
            "_model_module_version": "1.5.0",
            "_model_name": "FloatProgressModel",
            "_view_count": null,
            "_view_module": "@jupyter-widgets/controls",
            "_view_module_version": "1.5.0",
            "_view_name": "ProgressView",
            "bar_style": "success",
            "description": "",
            "description_tooltip": null,
            "layout": "IPY_MODEL_29519268ec2c46d68e0c1cbd8453becc",
            "max": 5000,
            "min": 0,
            "orientation": "horizontal",
            "style": "IPY_MODEL_afa6d1b12ce24897bf33043a040b77ee",
            "value": 5000
          }
        },
        "757b708472ca4ea09d826f778b8d26a7": {
          "model_module": "@jupyter-widgets/controls",
          "model_name": "HTMLModel",
          "model_module_version": "1.5.0",
          "state": {
            "_dom_classes": [],
            "_model_module": "@jupyter-widgets/controls",
            "_model_module_version": "1.5.0",
            "_model_name": "HTMLModel",
            "_view_count": null,
            "_view_module": "@jupyter-widgets/controls",
            "_view_module_version": "1.5.0",
            "_view_name": "HTMLView",
            "description": "",
            "description_tooltip": null,
            "layout": "IPY_MODEL_301f3a79f1544d9bbe8802789e0a11dc",
            "placeholder": "​",
            "style": "IPY_MODEL_2414c68475474ea285c0f506f2b618e3",
            "value": " 5000/5000 [00:03&lt;00:00, 1202.39it/s]"
          }
        },
        "e30a0b8edc394c84b84c9b3497a9def2": {
          "model_module": "@jupyter-widgets/base",
          "model_name": "LayoutModel",
          "model_module_version": "1.2.0",
          "state": {
            "_model_module": "@jupyter-widgets/base",
            "_model_module_version": "1.2.0",
            "_model_name": "LayoutModel",
            "_view_count": null,
            "_view_module": "@jupyter-widgets/base",
            "_view_module_version": "1.2.0",
            "_view_name": "LayoutView",
            "align_content": null,
            "align_items": null,
            "align_self": null,
            "border": null,
            "bottom": null,
            "display": null,
            "flex": null,
            "flex_flow": null,
            "grid_area": null,
            "grid_auto_columns": null,
            "grid_auto_flow": null,
            "grid_auto_rows": null,
            "grid_column": null,
            "grid_gap": null,
            "grid_row": null,
            "grid_template_areas": null,
            "grid_template_columns": null,
            "grid_template_rows": null,
            "height": null,
            "justify_content": null,
            "justify_items": null,
            "left": null,
            "margin": null,
            "max_height": null,
            "max_width": null,
            "min_height": null,
            "min_width": null,
            "object_fit": null,
            "object_position": null,
            "order": null,
            "overflow": null,
            "overflow_x": null,
            "overflow_y": null,
            "padding": null,
            "right": null,
            "top": null,
            "visibility": null,
            "width": null
          }
        },
        "2fee69f54ea5403e9c266350377ba6d8": {
          "model_module": "@jupyter-widgets/base",
          "model_name": "LayoutModel",
          "model_module_version": "1.2.0",
          "state": {
            "_model_module": "@jupyter-widgets/base",
            "_model_module_version": "1.2.0",
            "_model_name": "LayoutModel",
            "_view_count": null,
            "_view_module": "@jupyter-widgets/base",
            "_view_module_version": "1.2.0",
            "_view_name": "LayoutView",
            "align_content": null,
            "align_items": null,
            "align_self": null,
            "border": null,
            "bottom": null,
            "display": null,
            "flex": null,
            "flex_flow": null,
            "grid_area": null,
            "grid_auto_columns": null,
            "grid_auto_flow": null,
            "grid_auto_rows": null,
            "grid_column": null,
            "grid_gap": null,
            "grid_row": null,
            "grid_template_areas": null,
            "grid_template_columns": null,
            "grid_template_rows": null,
            "height": null,
            "justify_content": null,
            "justify_items": null,
            "left": null,
            "margin": null,
            "max_height": null,
            "max_width": null,
            "min_height": null,
            "min_width": null,
            "object_fit": null,
            "object_position": null,
            "order": null,
            "overflow": null,
            "overflow_x": null,
            "overflow_y": null,
            "padding": null,
            "right": null,
            "top": null,
            "visibility": null,
            "width": null
          }
        },
        "34d4061ef8ad42bcacbe0084e4d92bb1": {
          "model_module": "@jupyter-widgets/controls",
          "model_name": "DescriptionStyleModel",
          "model_module_version": "1.5.0",
          "state": {
            "_model_module": "@jupyter-widgets/controls",
            "_model_module_version": "1.5.0",
            "_model_name": "DescriptionStyleModel",
            "_view_count": null,
            "_view_module": "@jupyter-widgets/base",
            "_view_module_version": "1.2.0",
            "_view_name": "StyleView",
            "description_width": ""
          }
        },
        "29519268ec2c46d68e0c1cbd8453becc": {
          "model_module": "@jupyter-widgets/base",
          "model_name": "LayoutModel",
          "model_module_version": "1.2.0",
          "state": {
            "_model_module": "@jupyter-widgets/base",
            "_model_module_version": "1.2.0",
            "_model_name": "LayoutModel",
            "_view_count": null,
            "_view_module": "@jupyter-widgets/base",
            "_view_module_version": "1.2.0",
            "_view_name": "LayoutView",
            "align_content": null,
            "align_items": null,
            "align_self": null,
            "border": null,
            "bottom": null,
            "display": null,
            "flex": null,
            "flex_flow": null,
            "grid_area": null,
            "grid_auto_columns": null,
            "grid_auto_flow": null,
            "grid_auto_rows": null,
            "grid_column": null,
            "grid_gap": null,
            "grid_row": null,
            "grid_template_areas": null,
            "grid_template_columns": null,
            "grid_template_rows": null,
            "height": null,
            "justify_content": null,
            "justify_items": null,
            "left": null,
            "margin": null,
            "max_height": null,
            "max_width": null,
            "min_height": null,
            "min_width": null,
            "object_fit": null,
            "object_position": null,
            "order": null,
            "overflow": null,
            "overflow_x": null,
            "overflow_y": null,
            "padding": null,
            "right": null,
            "top": null,
            "visibility": null,
            "width": null
          }
        },
        "afa6d1b12ce24897bf33043a040b77ee": {
          "model_module": "@jupyter-widgets/controls",
          "model_name": "ProgressStyleModel",
          "model_module_version": "1.5.0",
          "state": {
            "_model_module": "@jupyter-widgets/controls",
            "_model_module_version": "1.5.0",
            "_model_name": "ProgressStyleModel",
            "_view_count": null,
            "_view_module": "@jupyter-widgets/base",
            "_view_module_version": "1.2.0",
            "_view_name": "StyleView",
            "bar_color": null,
            "description_width": ""
          }
        },
        "301f3a79f1544d9bbe8802789e0a11dc": {
          "model_module": "@jupyter-widgets/base",
          "model_name": "LayoutModel",
          "model_module_version": "1.2.0",
          "state": {
            "_model_module": "@jupyter-widgets/base",
            "_model_module_version": "1.2.0",
            "_model_name": "LayoutModel",
            "_view_count": null,
            "_view_module": "@jupyter-widgets/base",
            "_view_module_version": "1.2.0",
            "_view_name": "LayoutView",
            "align_content": null,
            "align_items": null,
            "align_self": null,
            "border": null,
            "bottom": null,
            "display": null,
            "flex": null,
            "flex_flow": null,
            "grid_area": null,
            "grid_auto_columns": null,
            "grid_auto_flow": null,
            "grid_auto_rows": null,
            "grid_column": null,
            "grid_gap": null,
            "grid_row": null,
            "grid_template_areas": null,
            "grid_template_columns": null,
            "grid_template_rows": null,
            "height": null,
            "justify_content": null,
            "justify_items": null,
            "left": null,
            "margin": null,
            "max_height": null,
            "max_width": null,
            "min_height": null,
            "min_width": null,
            "object_fit": null,
            "object_position": null,
            "order": null,
            "overflow": null,
            "overflow_x": null,
            "overflow_y": null,
            "padding": null,
            "right": null,
            "top": null,
            "visibility": null,
            "width": null
          }
        },
        "2414c68475474ea285c0f506f2b618e3": {
          "model_module": "@jupyter-widgets/controls",
          "model_name": "DescriptionStyleModel",
          "model_module_version": "1.5.0",
          "state": {
            "_model_module": "@jupyter-widgets/controls",
            "_model_module_version": "1.5.0",
            "_model_name": "DescriptionStyleModel",
            "_view_count": null,
            "_view_module": "@jupyter-widgets/base",
            "_view_module_version": "1.2.0",
            "_view_name": "StyleView",
            "description_width": ""
          }
        },
        "f256293664934144b7279c7fcd92d48b": {
          "model_module": "@jupyter-widgets/controls",
          "model_name": "HBoxModel",
          "model_module_version": "1.5.0",
          "state": {
            "_dom_classes": [],
            "_model_module": "@jupyter-widgets/controls",
            "_model_module_version": "1.5.0",
            "_model_name": "HBoxModel",
            "_view_count": null,
            "_view_module": "@jupyter-widgets/controls",
            "_view_module_version": "1.5.0",
            "_view_name": "HBoxView",
            "box_style": "",
            "children": [
              "IPY_MODEL_8114ae572d1a46dbb735ee389a358ad6",
              "IPY_MODEL_ccd20868da8e46f7a1e81dce013e3dcf",
              "IPY_MODEL_d41121f1829a4ed091c3f2c170562d54"
            ],
            "layout": "IPY_MODEL_03ebf5b2bba945aeabc3cff642413fae"
          }
        },
        "8114ae572d1a46dbb735ee389a358ad6": {
          "model_module": "@jupyter-widgets/controls",
          "model_name": "HTMLModel",
          "model_module_version": "1.5.0",
          "state": {
            "_dom_classes": [],
            "_model_module": "@jupyter-widgets/controls",
            "_model_module_version": "1.5.0",
            "_model_name": "HTMLModel",
            "_view_count": null,
            "_view_module": "@jupyter-widgets/controls",
            "_view_module_version": "1.5.0",
            "_view_name": "HTMLView",
            "description": "",
            "description_tooltip": null,
            "layout": "IPY_MODEL_692ba85335c24c069fc033d19f551d58",
            "placeholder": "​",
            "style": "IPY_MODEL_d48ae28f83fe4dda9a0e883f156574b5",
            "value": "100%"
          }
        },
        "ccd20868da8e46f7a1e81dce013e3dcf": {
          "model_module": "@jupyter-widgets/controls",
          "model_name": "FloatProgressModel",
          "model_module_version": "1.5.0",
          "state": {
            "_dom_classes": [],
            "_model_module": "@jupyter-widgets/controls",
            "_model_module_version": "1.5.0",
            "_model_name": "FloatProgressModel",
            "_view_count": null,
            "_view_module": "@jupyter-widgets/controls",
            "_view_module_version": "1.5.0",
            "_view_name": "ProgressView",
            "bar_style": "success",
            "description": "",
            "description_tooltip": null,
            "layout": "IPY_MODEL_cccef12548924a1392ace1c37aa3b6a0",
            "max": 25000,
            "min": 0,
            "orientation": "horizontal",
            "style": "IPY_MODEL_22e7a56e4c7743bea2bc2f66b3ad211d",
            "value": 25000
          }
        },
        "d41121f1829a4ed091c3f2c170562d54": {
          "model_module": "@jupyter-widgets/controls",
          "model_name": "HTMLModel",
          "model_module_version": "1.5.0",
          "state": {
            "_dom_classes": [],
            "_model_module": "@jupyter-widgets/controls",
            "_model_module_version": "1.5.0",
            "_model_name": "HTMLModel",
            "_view_count": null,
            "_view_module": "@jupyter-widgets/controls",
            "_view_module_version": "1.5.0",
            "_view_name": "HTMLView",
            "description": "",
            "description_tooltip": null,
            "layout": "IPY_MODEL_faae8001aa0746cb92edee25975f44d6",
            "placeholder": "​",
            "style": "IPY_MODEL_68ff1ad7688748a0bfb513b4cfb8e0ea",
            "value": " 25000/25000 [00:11&lt;00:00, 1510.27it/s]"
          }
        },
        "03ebf5b2bba945aeabc3cff642413fae": {
          "model_module": "@jupyter-widgets/base",
          "model_name": "LayoutModel",
          "model_module_version": "1.2.0",
          "state": {
            "_model_module": "@jupyter-widgets/base",
            "_model_module_version": "1.2.0",
            "_model_name": "LayoutModel",
            "_view_count": null,
            "_view_module": "@jupyter-widgets/base",
            "_view_module_version": "1.2.0",
            "_view_name": "LayoutView",
            "align_content": null,
            "align_items": null,
            "align_self": null,
            "border": null,
            "bottom": null,
            "display": null,
            "flex": null,
            "flex_flow": null,
            "grid_area": null,
            "grid_auto_columns": null,
            "grid_auto_flow": null,
            "grid_auto_rows": null,
            "grid_column": null,
            "grid_gap": null,
            "grid_row": null,
            "grid_template_areas": null,
            "grid_template_columns": null,
            "grid_template_rows": null,
            "height": null,
            "justify_content": null,
            "justify_items": null,
            "left": null,
            "margin": null,
            "max_height": null,
            "max_width": null,
            "min_height": null,
            "min_width": null,
            "object_fit": null,
            "object_position": null,
            "order": null,
            "overflow": null,
            "overflow_x": null,
            "overflow_y": null,
            "padding": null,
            "right": null,
            "top": null,
            "visibility": null,
            "width": null
          }
        },
        "692ba85335c24c069fc033d19f551d58": {
          "model_module": "@jupyter-widgets/base",
          "model_name": "LayoutModel",
          "model_module_version": "1.2.0",
          "state": {
            "_model_module": "@jupyter-widgets/base",
            "_model_module_version": "1.2.0",
            "_model_name": "LayoutModel",
            "_view_count": null,
            "_view_module": "@jupyter-widgets/base",
            "_view_module_version": "1.2.0",
            "_view_name": "LayoutView",
            "align_content": null,
            "align_items": null,
            "align_self": null,
            "border": null,
            "bottom": null,
            "display": null,
            "flex": null,
            "flex_flow": null,
            "grid_area": null,
            "grid_auto_columns": null,
            "grid_auto_flow": null,
            "grid_auto_rows": null,
            "grid_column": null,
            "grid_gap": null,
            "grid_row": null,
            "grid_template_areas": null,
            "grid_template_columns": null,
            "grid_template_rows": null,
            "height": null,
            "justify_content": null,
            "justify_items": null,
            "left": null,
            "margin": null,
            "max_height": null,
            "max_width": null,
            "min_height": null,
            "min_width": null,
            "object_fit": null,
            "object_position": null,
            "order": null,
            "overflow": null,
            "overflow_x": null,
            "overflow_y": null,
            "padding": null,
            "right": null,
            "top": null,
            "visibility": null,
            "width": null
          }
        },
        "d48ae28f83fe4dda9a0e883f156574b5": {
          "model_module": "@jupyter-widgets/controls",
          "model_name": "DescriptionStyleModel",
          "model_module_version": "1.5.0",
          "state": {
            "_model_module": "@jupyter-widgets/controls",
            "_model_module_version": "1.5.0",
            "_model_name": "DescriptionStyleModel",
            "_view_count": null,
            "_view_module": "@jupyter-widgets/base",
            "_view_module_version": "1.2.0",
            "_view_name": "StyleView",
            "description_width": ""
          }
        },
        "cccef12548924a1392ace1c37aa3b6a0": {
          "model_module": "@jupyter-widgets/base",
          "model_name": "LayoutModel",
          "model_module_version": "1.2.0",
          "state": {
            "_model_module": "@jupyter-widgets/base",
            "_model_module_version": "1.2.0",
            "_model_name": "LayoutModel",
            "_view_count": null,
            "_view_module": "@jupyter-widgets/base",
            "_view_module_version": "1.2.0",
            "_view_name": "LayoutView",
            "align_content": null,
            "align_items": null,
            "align_self": null,
            "border": null,
            "bottom": null,
            "display": null,
            "flex": null,
            "flex_flow": null,
            "grid_area": null,
            "grid_auto_columns": null,
            "grid_auto_flow": null,
            "grid_auto_rows": null,
            "grid_column": null,
            "grid_gap": null,
            "grid_row": null,
            "grid_template_areas": null,
            "grid_template_columns": null,
            "grid_template_rows": null,
            "height": null,
            "justify_content": null,
            "justify_items": null,
            "left": null,
            "margin": null,
            "max_height": null,
            "max_width": null,
            "min_height": null,
            "min_width": null,
            "object_fit": null,
            "object_position": null,
            "order": null,
            "overflow": null,
            "overflow_x": null,
            "overflow_y": null,
            "padding": null,
            "right": null,
            "top": null,
            "visibility": null,
            "width": null
          }
        },
        "22e7a56e4c7743bea2bc2f66b3ad211d": {
          "model_module": "@jupyter-widgets/controls",
          "model_name": "ProgressStyleModel",
          "model_module_version": "1.5.0",
          "state": {
            "_model_module": "@jupyter-widgets/controls",
            "_model_module_version": "1.5.0",
            "_model_name": "ProgressStyleModel",
            "_view_count": null,
            "_view_module": "@jupyter-widgets/base",
            "_view_module_version": "1.2.0",
            "_view_name": "StyleView",
            "bar_color": null,
            "description_width": ""
          }
        },
        "faae8001aa0746cb92edee25975f44d6": {
          "model_module": "@jupyter-widgets/base",
          "model_name": "LayoutModel",
          "model_module_version": "1.2.0",
          "state": {
            "_model_module": "@jupyter-widgets/base",
            "_model_module_version": "1.2.0",
            "_model_name": "LayoutModel",
            "_view_count": null,
            "_view_module": "@jupyter-widgets/base",
            "_view_module_version": "1.2.0",
            "_view_name": "LayoutView",
            "align_content": null,
            "align_items": null,
            "align_self": null,
            "border": null,
            "bottom": null,
            "display": null,
            "flex": null,
            "flex_flow": null,
            "grid_area": null,
            "grid_auto_columns": null,
            "grid_auto_flow": null,
            "grid_auto_rows": null,
            "grid_column": null,
            "grid_gap": null,
            "grid_row": null,
            "grid_template_areas": null,
            "grid_template_columns": null,
            "grid_template_rows": null,
            "height": null,
            "justify_content": null,
            "justify_items": null,
            "left": null,
            "margin": null,
            "max_height": null,
            "max_width": null,
            "min_height": null,
            "min_width": null,
            "object_fit": null,
            "object_position": null,
            "order": null,
            "overflow": null,
            "overflow_x": null,
            "overflow_y": null,
            "padding": null,
            "right": null,
            "top": null,
            "visibility": null,
            "width": null
          }
        },
        "68ff1ad7688748a0bfb513b4cfb8e0ea": {
          "model_module": "@jupyter-widgets/controls",
          "model_name": "DescriptionStyleModel",
          "model_module_version": "1.5.0",
          "state": {
            "_model_module": "@jupyter-widgets/controls",
            "_model_module_version": "1.5.0",
            "_model_name": "DescriptionStyleModel",
            "_view_count": null,
            "_view_module": "@jupyter-widgets/base",
            "_view_module_version": "1.2.0",
            "_view_name": "StyleView",
            "description_width": ""
          }
        },
        "6ff5c8f96827481bb6f7dca26bcf7491": {
          "model_module": "@jupyter-widgets/controls",
          "model_name": "HBoxModel",
          "model_module_version": "1.5.0",
          "state": {
            "_dom_classes": [],
            "_model_module": "@jupyter-widgets/controls",
            "_model_module_version": "1.5.0",
            "_model_name": "HBoxModel",
            "_view_count": null,
            "_view_module": "@jupyter-widgets/controls",
            "_view_module_version": "1.5.0",
            "_view_name": "HBoxView",
            "box_style": "",
            "children": [
              "IPY_MODEL_867939261caf4bb6bfad25f32bad944e",
              "IPY_MODEL_0df256f5f0944a178f3f3611488cb011",
              "IPY_MODEL_70a6f48f905948f1905f65b4dc859e31"
            ],
            "layout": "IPY_MODEL_ac24074f96e445f18672e7487fec575c"
          }
        },
        "867939261caf4bb6bfad25f32bad944e": {
          "model_module": "@jupyter-widgets/controls",
          "model_name": "HTMLModel",
          "model_module_version": "1.5.0",
          "state": {
            "_dom_classes": [],
            "_model_module": "@jupyter-widgets/controls",
            "_model_module_version": "1.5.0",
            "_model_name": "HTMLModel",
            "_view_count": null,
            "_view_module": "@jupyter-widgets/controls",
            "_view_module_version": "1.5.0",
            "_view_name": "HTMLView",
            "description": "",
            "description_tooltip": null,
            "layout": "IPY_MODEL_cfdb2077624142c9a957c4f24de887e4",
            "placeholder": "​",
            "style": "IPY_MODEL_7876be242c1344309932e898e60d8aaf",
            "value": "100%"
          }
        },
        "0df256f5f0944a178f3f3611488cb011": {
          "model_module": "@jupyter-widgets/controls",
          "model_name": "FloatProgressModel",
          "model_module_version": "1.5.0",
          "state": {
            "_dom_classes": [],
            "_model_module": "@jupyter-widgets/controls",
            "_model_module_version": "1.5.0",
            "_model_name": "FloatProgressModel",
            "_view_count": null,
            "_view_module": "@jupyter-widgets/controls",
            "_view_module_version": "1.5.0",
            "_view_name": "ProgressView",
            "bar_style": "success",
            "description": "",
            "description_tooltip": null,
            "layout": "IPY_MODEL_d8464b1d59194da981b30bc7a379b33e",
            "max": 10,
            "min": 0,
            "orientation": "horizontal",
            "style": "IPY_MODEL_67148db135b7468b81fb260f6d502c12",
            "value": 10
          }
        },
        "70a6f48f905948f1905f65b4dc859e31": {
          "model_module": "@jupyter-widgets/controls",
          "model_name": "HTMLModel",
          "model_module_version": "1.5.0",
          "state": {
            "_dom_classes": [],
            "_model_module": "@jupyter-widgets/controls",
            "_model_module_version": "1.5.0",
            "_model_name": "HTMLModel",
            "_view_count": null,
            "_view_module": "@jupyter-widgets/controls",
            "_view_module_version": "1.5.0",
            "_view_name": "HTMLView",
            "description": "",
            "description_tooltip": null,
            "layout": "IPY_MODEL_7388f854cef74b729b880f5450b963bc",
            "placeholder": "​",
            "style": "IPY_MODEL_05c821bc8d4a4250a70895d8bff9b597",
            "value": " 10/10 [47:09&lt;00:00, 282.22s/it]"
          }
        },
        "ac24074f96e445f18672e7487fec575c": {
          "model_module": "@jupyter-widgets/base",
          "model_name": "LayoutModel",
          "model_module_version": "1.2.0",
          "state": {
            "_model_module": "@jupyter-widgets/base",
            "_model_module_version": "1.2.0",
            "_model_name": "LayoutModel",
            "_view_count": null,
            "_view_module": "@jupyter-widgets/base",
            "_view_module_version": "1.2.0",
            "_view_name": "LayoutView",
            "align_content": null,
            "align_items": null,
            "align_self": null,
            "border": null,
            "bottom": null,
            "display": null,
            "flex": null,
            "flex_flow": null,
            "grid_area": null,
            "grid_auto_columns": null,
            "grid_auto_flow": null,
            "grid_auto_rows": null,
            "grid_column": null,
            "grid_gap": null,
            "grid_row": null,
            "grid_template_areas": null,
            "grid_template_columns": null,
            "grid_template_rows": null,
            "height": null,
            "justify_content": null,
            "justify_items": null,
            "left": null,
            "margin": null,
            "max_height": null,
            "max_width": null,
            "min_height": null,
            "min_width": null,
            "object_fit": null,
            "object_position": null,
            "order": null,
            "overflow": null,
            "overflow_x": null,
            "overflow_y": null,
            "padding": null,
            "right": null,
            "top": null,
            "visibility": null,
            "width": null
          }
        },
        "cfdb2077624142c9a957c4f24de887e4": {
          "model_module": "@jupyter-widgets/base",
          "model_name": "LayoutModel",
          "model_module_version": "1.2.0",
          "state": {
            "_model_module": "@jupyter-widgets/base",
            "_model_module_version": "1.2.0",
            "_model_name": "LayoutModel",
            "_view_count": null,
            "_view_module": "@jupyter-widgets/base",
            "_view_module_version": "1.2.0",
            "_view_name": "LayoutView",
            "align_content": null,
            "align_items": null,
            "align_self": null,
            "border": null,
            "bottom": null,
            "display": null,
            "flex": null,
            "flex_flow": null,
            "grid_area": null,
            "grid_auto_columns": null,
            "grid_auto_flow": null,
            "grid_auto_rows": null,
            "grid_column": null,
            "grid_gap": null,
            "grid_row": null,
            "grid_template_areas": null,
            "grid_template_columns": null,
            "grid_template_rows": null,
            "height": null,
            "justify_content": null,
            "justify_items": null,
            "left": null,
            "margin": null,
            "max_height": null,
            "max_width": null,
            "min_height": null,
            "min_width": null,
            "object_fit": null,
            "object_position": null,
            "order": null,
            "overflow": null,
            "overflow_x": null,
            "overflow_y": null,
            "padding": null,
            "right": null,
            "top": null,
            "visibility": null,
            "width": null
          }
        },
        "7876be242c1344309932e898e60d8aaf": {
          "model_module": "@jupyter-widgets/controls",
          "model_name": "DescriptionStyleModel",
          "model_module_version": "1.5.0",
          "state": {
            "_model_module": "@jupyter-widgets/controls",
            "_model_module_version": "1.5.0",
            "_model_name": "DescriptionStyleModel",
            "_view_count": null,
            "_view_module": "@jupyter-widgets/base",
            "_view_module_version": "1.2.0",
            "_view_name": "StyleView",
            "description_width": ""
          }
        },
        "d8464b1d59194da981b30bc7a379b33e": {
          "model_module": "@jupyter-widgets/base",
          "model_name": "LayoutModel",
          "model_module_version": "1.2.0",
          "state": {
            "_model_module": "@jupyter-widgets/base",
            "_model_module_version": "1.2.0",
            "_model_name": "LayoutModel",
            "_view_count": null,
            "_view_module": "@jupyter-widgets/base",
            "_view_module_version": "1.2.0",
            "_view_name": "LayoutView",
            "align_content": null,
            "align_items": null,
            "align_self": null,
            "border": null,
            "bottom": null,
            "display": null,
            "flex": null,
            "flex_flow": null,
            "grid_area": null,
            "grid_auto_columns": null,
            "grid_auto_flow": null,
            "grid_auto_rows": null,
            "grid_column": null,
            "grid_gap": null,
            "grid_row": null,
            "grid_template_areas": null,
            "grid_template_columns": null,
            "grid_template_rows": null,
            "height": null,
            "justify_content": null,
            "justify_items": null,
            "left": null,
            "margin": null,
            "max_height": null,
            "max_width": null,
            "min_height": null,
            "min_width": null,
            "object_fit": null,
            "object_position": null,
            "order": null,
            "overflow": null,
            "overflow_x": null,
            "overflow_y": null,
            "padding": null,
            "right": null,
            "top": null,
            "visibility": null,
            "width": null
          }
        },
        "67148db135b7468b81fb260f6d502c12": {
          "model_module": "@jupyter-widgets/controls",
          "model_name": "ProgressStyleModel",
          "model_module_version": "1.5.0",
          "state": {
            "_model_module": "@jupyter-widgets/controls",
            "_model_module_version": "1.5.0",
            "_model_name": "ProgressStyleModel",
            "_view_count": null,
            "_view_module": "@jupyter-widgets/base",
            "_view_module_version": "1.2.0",
            "_view_name": "StyleView",
            "bar_color": null,
            "description_width": ""
          }
        },
        "7388f854cef74b729b880f5450b963bc": {
          "model_module": "@jupyter-widgets/base",
          "model_name": "LayoutModel",
          "model_module_version": "1.2.0",
          "state": {
            "_model_module": "@jupyter-widgets/base",
            "_model_module_version": "1.2.0",
            "_model_name": "LayoutModel",
            "_view_count": null,
            "_view_module": "@jupyter-widgets/base",
            "_view_module_version": "1.2.0",
            "_view_name": "LayoutView",
            "align_content": null,
            "align_items": null,
            "align_self": null,
            "border": null,
            "bottom": null,
            "display": null,
            "flex": null,
            "flex_flow": null,
            "grid_area": null,
            "grid_auto_columns": null,
            "grid_auto_flow": null,
            "grid_auto_rows": null,
            "grid_column": null,
            "grid_gap": null,
            "grid_row": null,
            "grid_template_areas": null,
            "grid_template_columns": null,
            "grid_template_rows": null,
            "height": null,
            "justify_content": null,
            "justify_items": null,
            "left": null,
            "margin": null,
            "max_height": null,
            "max_width": null,
            "min_height": null,
            "min_width": null,
            "object_fit": null,
            "object_position": null,
            "order": null,
            "overflow": null,
            "overflow_x": null,
            "overflow_y": null,
            "padding": null,
            "right": null,
            "top": null,
            "visibility": null,
            "width": null
          }
        },
        "05c821bc8d4a4250a70895d8bff9b597": {
          "model_module": "@jupyter-widgets/controls",
          "model_name": "DescriptionStyleModel",
          "model_module_version": "1.5.0",
          "state": {
            "_model_module": "@jupyter-widgets/controls",
            "_model_module_version": "1.5.0",
            "_model_name": "DescriptionStyleModel",
            "_view_count": null,
            "_view_module": "@jupyter-widgets/base",
            "_view_module_version": "1.2.0",
            "_view_name": "StyleView",
            "description_width": ""
          }
        }
      }
    }
  },
  "nbformat_minor": 0,
  "nbformat": 4,
  "cells": [
    {
      "cell_type": "markdown",
      "source": [
        "# Coding your own RNN\n",
        "\n",
        "Using this pre-filled notebook, we will code our own RNN for sentence classification. For now, we'll keep using IMDB, as the goal of this part is to understand how an RNN works.\n",
        "\n",
        "Unlike our previous lab, we will also learn the embedding layer. Which means we need to deal with vocabulary by ourselves."
      ],
      "metadata": {
        "cell_id": "d0fade7a5a3147a28de38c9ceb68a0e6",
        "deepnote_cell_type": "markdown",
        "id": "1FIEBnbbZ0Pz"
      }
    },
    {
      "cell_type": "code",
      "source": [
        "from functools import partial\n",
        "from typing import Callable, Dict, Generator, List, Tuple\n",
        "\n",
        "from datasets import load_dataset\n",
        "import numpy as np\n",
        "from sklearn.utils import shuffle\n",
        "import torch\n",
        "from torch import nn\n",
        "from torchtext.vocab import vocab, Vocab\n",
        "from torchtext.data.utils import get_tokenizer\n",
        "\n",
        "from tqdm.auto import tqdm\n",
        "import copy\n",
        "\n",
        "import matplotlib.pyplot as plt"
      ],
      "metadata": {
        "cell_id": "74144c90a7c241d6a351413c031fbba8",
        "source_hash": "5dad46e3",
        "execution_start": 1684405934620,
        "execution_millis": 11259,
        "deepnote_to_be_reexecuted": false,
        "deepnote_cell_type": "code",
        "id": "I7SDSlgFZ0P2"
      },
      "execution_count": 42,
      "outputs": []
    },
    {
      "cell_type": "code",
      "source": [
        "SEED = 42\n",
        "torch.manual_seed(SEED)\n",
        "np.random.seed(SEED)"
      ],
      "metadata": {
        "cell_id": "a0d9af8e84414266b5635023d249ca58",
        "source_hash": "56998a46",
        "execution_start": 1684405945912,
        "execution_millis": 2,
        "deepnote_to_be_reexecuted": false,
        "deepnote_cell_type": "code",
        "id": "1-T2gOeNZ0P2"
      },
      "execution_count": 22,
      "outputs": []
    },
    {
      "cell_type": "markdown",
      "source": [
        "## Dataset\n",
        "We load the dataset and split the training set in a stratified train/validation set."
      ],
      "metadata": {
        "cell_id": "711a16104e7d4ea4b1d17f6ae9c629f9",
        "deepnote_cell_type": "markdown",
        "id": "SLwwK6iMZ0P3"
      }
    },
    {
      "cell_type": "code",
      "source": [
        "dataset = load_dataset(\"imdb\")\n",
        "train_dataset = dataset[\"train\"].train_test_split(\n",
        "    stratify_by_column=\"label\", test_size=0.2, seed=42\n",
        ")\n",
        "test_df = dataset[\"test\"]\n",
        "train_df = train_dataset[\"train\"]\n",
        "valid_df = train_dataset[\"test\"]\n",
        "train_df.shape, valid_df.shape, test_df.shape"
      ],
      "metadata": {
        "cell_id": "878ab25fa9ea468194138f3b676dcf51",
        "source_hash": "b22c27ac",
        "execution_start": 1684405945983,
        "execution_millis": 467,
        "deepnote_to_be_reexecuted": false,
        "deepnote_cell_type": "code",
        "colab": {
          "base_uri": "https://localhost:8080/",
          "height": 121,
          "referenced_widgets": [
            "b8790a355c474cbc8dddccd383082e08",
            "594a545473e24e558a8be4533baed0df",
            "ffd3256a1d6d4dcf8023fb437573224c",
            "f48d6056c13244e4bdbaf63a7abfe327",
            "93f50cc3de574e959c7f4c26142d0859",
            "cd640b0ce6c54118933c2c70f4260ed0",
            "a803cc6b80a64581a3f2b7ee7fbdfab9",
            "dd9e7b6170ea48e6b9f7b9d28b4fd48a",
            "efb75567729b45ecabf322270a0055b7",
            "6239aca77cd949418b3bd68b5b035ebd",
            "86ef9aa6670548d998c43b4b0e83d9dd"
          ]
        },
        "id": "JKd83nO7Z0P3",
        "outputId": "0c817e58-5136-49f7-840a-d8dd91864156"
      },
      "execution_count": 23,
      "outputs": [
        {
          "output_type": "stream",
          "name": "stderr",
          "text": [
            "WARNING:datasets.builder:Found cached dataset imdb (/root/.cache/huggingface/datasets/imdb/plain_text/1.0.0/d613c88cf8fa3bab83b4ded3713f1f74830d1100e171db75bbddb80b3345c9c0)\n"
          ]
        },
        {
          "output_type": "display_data",
          "data": {
            "text/plain": [
              "  0%|          | 0/3 [00:00<?, ?it/s]"
            ],
            "application/vnd.jupyter.widget-view+json": {
              "version_major": 2,
              "version_minor": 0,
              "model_id": "b8790a355c474cbc8dddccd383082e08"
            }
          },
          "metadata": {}
        },
        {
          "output_type": "stream",
          "name": "stderr",
          "text": [
            "WARNING:datasets.arrow_dataset:Loading cached split indices for dataset at /root/.cache/huggingface/datasets/imdb/plain_text/1.0.0/d613c88cf8fa3bab83b4ded3713f1f74830d1100e171db75bbddb80b3345c9c0/cache-5f37fd0866e4f89f.arrow and /root/.cache/huggingface/datasets/imdb/plain_text/1.0.0/d613c88cf8fa3bab83b4ded3713f1f74830d1100e171db75bbddb80b3345c9c0/cache-dd5732a0e6ac784c.arrow\n"
          ]
        },
        {
          "output_type": "execute_result",
          "data": {
            "text/plain": [
              "((20000, 2), (5000, 2), (25000, 2))"
            ]
          },
          "metadata": {},
          "execution_count": 23
        }
      ]
    },
    {
      "cell_type": "markdown",
      "source": [
        "## Vocabulary (1 point)\n",
        "\n",
        "**\\[1 point\\]** Build your own vocabulary. The [example provided in torchtext documentation](https://pytorch.org/text/stable/vocab.html#id1) might be of help.\n",
        "* Don't forge to setup the `min_freq` parameter to not include unfrequent noise.\n",
        "* You will need a tokenizer. Reuse the `basic_english` one from the our previous lab.\n",
        "* For an RNN we need two special tokens: `<unk>`, for unknown words, and `<pad>` for padding."
      ],
      "metadata": {
        "cell_id": "8ba444d81485417c92b1b80df6c1fd7f",
        "deepnote_cell_type": "markdown",
        "id": "VhUKb8n2Z0P3"
      }
    },
    {
      "cell_type": "code",
      "source": [
        "from collections import Counter\n",
        "\n",
        "tokenizer = get_tokenizer(\"basic_english\")\n",
        "unknown_token=\"<unk>\"\n",
        "pad_token=\"<pad>\"\n",
        "\n",
        "vocabulary = vocab(\n",
        "    Counter([token for text in train_df[\"text\"] for token in tokenizer(text)]),\n",
        "    min_freq=5,\n",
        "    specials=[\"<unk>\", \"<pad>\"],\n",
        ")"
      ],
      "metadata": {
        "cell_id": "ea71cb8213e24695a4803a0538f7e40f",
        "source_hash": "d2db6a27",
        "execution_start": 1684405946471,
        "execution_millis": 4388,
        "deepnote_to_be_reexecuted": false,
        "deepnote_cell_type": "code",
        "id": "7vyfkjusZ0P5"
      },
      "execution_count": 24,
      "outputs": []
    },
    {
      "cell_type": "markdown",
      "source": [
        "## Vectorize and batch the input (3 points)\n",
        "\n",
        "As seen in class, our model should take one-hot encoded vectors corresponding to the each token vocabulary id. However, computing a vector x matrix multiplication for every input is unnecessarily costly. Multiplying a one-hot vector with a matrix is the equivalent of taking one row of the matrix. In pyTorch, we provide ids for each token which will be used as input to an `nn.Embedding` layer. The id is simply the row in the embedding matrix.\n",
        "\n",
        "**\\[1 point\\]** Fill the `vectorize_text` function returning a 1D torch tensor of `torch.long` for each input text."
      ],
      "metadata": {
        "cell_id": "9f8d20ecd9de4bff827edaa7bf209cbb",
        "deepnote_cell_type": "markdown",
        "id": "EAMPuKJKZ0P5"
      }
    },
    {
      "cell_type": "code",
      "source": [
        "def vectorize_text(\n",
        "    text: str, vocabulary: Vocab, tokenizer: Callable[[str], List[str]]\n",
        ") -> torch.Tensor:\n",
        "    \"\"\"\n",
        "    Generate a tensor of vocabluary IDs for a given text.\n",
        "    Args:\n",
        "        text: the input text.\n",
        "        vocabulary: a Vocab objects.\n",
        "        tokenizer: a text tokenizer.\n",
        "    Returns:\n",
        "        A tensor of IDs (torch.long).\n",
        "    \"\"\"\n",
        "    return torch.tensor([vocabulary[token] if token in vocabulary else vocabulary[\"<unk>\"] for token in tokenizer(text)], dtype=torch.long)"
      ],
      "metadata": {
        "cell_id": "6c8b3960110b4bd283ce062b8f87e389",
        "source_hash": "c8226e05",
        "execution_start": 1684405950873,
        "execution_millis": 3,
        "deepnote_to_be_reexecuted": false,
        "deepnote_cell_type": "code",
        "id": "kaMmDmB1Z0P5"
      },
      "execution_count": 25,
      "outputs": []
    },
    {
      "cell_type": "code",
      "source": [
        "text_pipeline = partial(vectorize_text, vocabulary=vocabulary, tokenizer=tokenizer)"
      ],
      "metadata": {
        "cell_id": "31c166758dfe45f08d8a5b3ec9aecc20",
        "source_hash": "a6497085",
        "execution_start": 1684405950893,
        "execution_millis": 2,
        "deepnote_to_be_reexecuted": false,
        "deepnote_cell_type": "code",
        "id": "tGdhq2lMZ0P6"
      },
      "execution_count": 26,
      "outputs": []
    },
    {
      "cell_type": "markdown",
      "source": [
        "Check the function is working correctly, especially it should return the right special id for unknown words."
      ],
      "metadata": {
        "cell_id": "b0eb2217164d485ea56cf0a3d9defcee",
        "deepnote_cell_type": "markdown",
        "id": "4rDCRdaKZ0P6"
      }
    },
    {
      "cell_type": "code",
      "source": [
        "text_pipeline(\"Some text I am thinking about... ragafqfa\")"
      ],
      "metadata": {
        "cell_id": "ea4a9ae24a35407e81959cd0eec9f759",
        "source_hash": "b2ab4e5e",
        "execution_start": 1684405950913,
        "execution_millis": 2,
        "deepnote_to_be_reexecuted": false,
        "deepnote_cell_type": "code",
        "colab": {
          "base_uri": "https://localhost:8080/"
        },
        "id": "kZaAXf1PZ0P7",
        "outputId": "c4910c79-9be1-4e23-d42c-46e854ba5e43"
      },
      "execution_count": 27,
      "outputs": [
        {
          "output_type": "execute_result",
          "data": {
            "text/plain": [
              "tensor([  40, 5226,   11,  270,  660,    8,   27,   27,   27,    0])"
            ]
          },
          "metadata": {},
          "execution_count": 27
        }
      ]
    },
    {
      "cell_type": "code",
      "source": [
        "X_train = [text_pipeline(text) for text in tqdm(train_df[\"text\"])]\n",
        "y_train = train_df[\"label\"]\n",
        "X_valid = [text_pipeline(text) for text in tqdm(valid_df[\"text\"])]\n",
        "y_valid = valid_df[\"label\"]\n",
        "X_test = [text_pipeline(text) for text in tqdm(test_df[\"text\"])]\n",
        "y_test = test_df[\"label\"]"
      ],
      "metadata": {
        "cell_id": "581936ea64d7417aa9903c3073727862",
        "source_hash": "285ebc9d",
        "execution_start": 1684405950926,
        "execution_millis": 30483,
        "deepnote_to_be_reexecuted": false,
        "deepnote_cell_type": "code",
        "colab": {
          "base_uri": "https://localhost:8080/",
          "height": 113,
          "referenced_widgets": [
            "f788e8e8bf374dea95fa03dcce539fb9",
            "0ba015901942474bbfd5bb84f9d95ad4",
            "30404f84d3e84e8ba94372f3835610b7",
            "a6dddbdce37c48bcaf2e55aad633860b",
            "932d0f18c9fa44a3aa0cc98a9060392f",
            "1befcf581c1c4cf9863ea9b9d256151d",
            "1e11362901cf4d5698009186f58d9232",
            "c8f89bf1e0ad4df4a5504e82456d96bb",
            "877368cec08c469f972037ded26de2d2",
            "4fc5be1a96a14c1eb92a071d59b0b832",
            "ee380e65b4eb4422ae54b770bb41526f",
            "6f4d003b57474467af3d8b4a99043279",
            "5e82ea04e2ae4266b260a84f84bdcfa8",
            "0f3f29fb0d23460b96057b69105cb3c0",
            "757b708472ca4ea09d826f778b8d26a7",
            "e30a0b8edc394c84b84c9b3497a9def2",
            "2fee69f54ea5403e9c266350377ba6d8",
            "34d4061ef8ad42bcacbe0084e4d92bb1",
            "29519268ec2c46d68e0c1cbd8453becc",
            "afa6d1b12ce24897bf33043a040b77ee",
            "301f3a79f1544d9bbe8802789e0a11dc",
            "2414c68475474ea285c0f506f2b618e3",
            "f256293664934144b7279c7fcd92d48b",
            "8114ae572d1a46dbb735ee389a358ad6",
            "ccd20868da8e46f7a1e81dce013e3dcf",
            "d41121f1829a4ed091c3f2c170562d54",
            "03ebf5b2bba945aeabc3cff642413fae",
            "692ba85335c24c069fc033d19f551d58",
            "d48ae28f83fe4dda9a0e883f156574b5",
            "cccef12548924a1392ace1c37aa3b6a0",
            "22e7a56e4c7743bea2bc2f66b3ad211d",
            "faae8001aa0746cb92edee25975f44d6",
            "68ff1ad7688748a0bfb513b4cfb8e0ea"
          ]
        },
        "id": "fwB6JVzOZ0P7",
        "outputId": "f5d6ff12-84d7-43af-98de-cb8e2318a8ea"
      },
      "execution_count": 28,
      "outputs": [
        {
          "output_type": "display_data",
          "data": {
            "text/plain": [
              "  0%|          | 0/20000 [00:00<?, ?it/s]"
            ],
            "application/vnd.jupyter.widget-view+json": {
              "version_major": 2,
              "version_minor": 0,
              "model_id": "f788e8e8bf374dea95fa03dcce539fb9"
            }
          },
          "metadata": {}
        },
        {
          "output_type": "display_data",
          "data": {
            "text/plain": [
              "  0%|          | 0/5000 [00:00<?, ?it/s]"
            ],
            "application/vnd.jupyter.widget-view+json": {
              "version_major": 2,
              "version_minor": 0,
              "model_id": "6f4d003b57474467af3d8b4a99043279"
            }
          },
          "metadata": {}
        },
        {
          "output_type": "display_data",
          "data": {
            "text/plain": [
              "  0%|          | 0/25000 [00:00<?, ?it/s]"
            ],
            "application/vnd.jupyter.widget-view+json": {
              "version_major": 2,
              "version_minor": 0,
              "model_id": "f256293664934144b7279c7fcd92d48b"
            }
          },
          "metadata": {}
        }
      ]
    },
    {
      "cell_type": "markdown",
      "source": [
        "To speed up the training process, we turn the inputs into batches, as we did last time. For batches to work, every line must have the same lengths. Last time, it was implicit as only a vector (the average of all embeddings) was provided. This time, every line has the length of a different review.\n",
        "\n",
        "To go around this problem, we use padding. So every line within a batch is padded to the length of its longest element.\n",
        "\n",
        "* **\\[1 point\\]** Fill the data generator function."
      ],
      "metadata": {
        "cell_id": "cfae5a061f2543eba3ad30eb3d6b54ff",
        "deepnote_cell_type": "markdown",
        "id": "hwHIwTcSZ0P7"
      }
    },
    {
      "cell_type": "code",
      "source": [
        "def data_generator(\n",
        "    X: List[torch.tensor], y: List[int], pad_id: int, batch_size: int = 32\n",
        ") -> Generator[Tuple[torch.Tensor, torch.Tensor], None, None]:\n",
        "    \"\"\"\n",
        "    Yield batches from given input data and labels.\n",
        "    Args:\n",
        "        X: a list of tensor (input features).\n",
        "        y: the corresponding labels.\n",
        "        batch_size: the size of every batch [32].\n",
        "    Returns:\n",
        "        A tuple of tensors (features, labels).\n",
        "    \"\"\"\n",
        "    X, y = shuffle(X, y, random_state=SEED)\n",
        "    for i in range(0, len(X), batch_size):\n",
        "        X_batch, y_batch = X[i : i + batch_size], y[i : i + batch_size]\n",
        "\n",
        "        # Padding\n",
        "        for batch_idx in range(len(X_batch)):\n",
        "            padding_size = (max([len(x) for x in X_batch]) - len(X_batch[batch_idx]), 0)\n",
        "            X_batch[batch_idx] = nn.functional.pad(X_batch[batch_idx], padding_size, value=pad_id)\n",
        "        \n",
        "        yield torch.stack(X_batch), torch.tensor(y_batch, dtype=torch.float32)"
      ],
      "metadata": {
        "cell_id": "4b95f9f0809b466f988be1a1a79723e9",
        "source_hash": "e7d4653a",
        "execution_start": 1684405981412,
        "execution_millis": 20,
        "deepnote_to_be_reexecuted": false,
        "deepnote_cell_type": "code",
        "id": "q7fu8BXiZ0P7"
      },
      "execution_count": 29,
      "outputs": []
    },
    {
      "cell_type": "markdown",
      "source": [
        "* **\\[1 point\\]** On which side should you pad and why?"
      ],
      "metadata": {
        "id": "hbK0l7h9b6mX"
      }
    },
    {
      "cell_type": "markdown",
      "source": [
        "RNN are model that store information from previous input. The RNN mainly \"remember\" the end of the sample, so padding at the end of the sample will lead to the fact, that it won't learn anything. It's difficult to keep long term memory and cannot process long sentence as it will mainly focus on the end. For these reasons, we decided to pad on the left, so that the end isn't the padding."
      ],
      "metadata": {
        "id": "8_ZAaATgcAdY"
      }
    },
    {
      "cell_type": "code",
      "source": [
        "train_gen = lambda: data_generator(X_train, y_train, vocabulary[pad_token])\n",
        "valid_gen = lambda: data_generator(X_valid, y_valid, vocabulary[pad_token])\n",
        "test_gen = lambda: data_generator(X_test, y_test, vocabulary[pad_token])"
      ],
      "metadata": {
        "cell_id": "0597edd233e34e32a96329493901d006",
        "source_hash": "68bafaf6",
        "execution_start": 1684405981435,
        "execution_millis": 5,
        "deepnote_to_be_reexecuted": false,
        "deepnote_cell_type": "code",
        "id": "zONWO3ILZ0P7"
      },
      "execution_count": 30,
      "outputs": []
    },
    {
      "cell_type": "markdown",
      "source": [
        "## Classifier (3 points)\n",
        "\n",
        "**\\[3 points\\]** Code your own RNN. Fill the `RNN` class correctly. Remember an RNN has 3 matrices and an embedding layer (see course slide 61).\n",
        "* The embedding layer turns a one-hot vectors into dense vectors.\n",
        "* The first matrix (W) connects the embedding to the hidden layer.\n",
        "  * `embedding_size -> hidden_size`\n",
        "* The second matrix (U) connect the previous hidden layer to the current one.\n",
        "  * `hidden_size -> hidden_size`\n",
        "* These to vectors are added and go through an activation function (e.g. $h_t = tanh(Wx_i+Uh_{t-1})$).\n",
        "* The last matrix (V) connects the hidden layer to the hidden layer to the output.\n",
        "  * `hidden_size -> 1`\n",
        "* Donc forget to add an `init_hidden` function which initialize the first hidden layer to 0."
      ],
      "metadata": {
        "tags": [],
        "cell_id": "bd23a8e27a444662aa7b6306e37bccc4",
        "deepnote_cell_type": "markdown",
        "id": "XFY51MV-Z0P8"
      }
    },
    {
      "cell_type": "code",
      "source": [
        "class RNN(nn.Module):\n",
        "    def __init__(self, vocabulary_size: int, embedding_size: int, hidden_size: int) -> None:\n",
        "        super().__init__()\n",
        "        self.hidden_size = hidden_size\n",
        "        self.embedding = nn.Embedding(vocabulary_size, embedding_size)\n",
        "        self.W = nn.Linear(embedding_size, hidden_size)\n",
        "        self.U = nn.Linear(hidden_size, hidden_size)\n",
        "        self.V = nn.Linear(hidden_size, 1)\n",
        "\n",
        "    def forward(self, x: torch.Tensor, hidden: torch.Tensor) -> torch.Tensor:\n",
        "        x = self.embedding(x)\n",
        "        hidden = torch.tanh(self.W(x) + self.U(hidden))\n",
        "        output = self.V(hidden)\n",
        "        return output, hidden\n",
        "\n",
        "    def init_hidden(self, batch_size: int) -> torch.Tensor:\n",
        "        return torch.zeros(batch_size, self.hidden_size, requires_grad=False)"
      ],
      "metadata": {
        "cell_id": "a868e7ce77d44a06897f3336a5555dd4",
        "source_hash": "1a9f51c5",
        "execution_start": 1684407220341,
        "execution_millis": 13,
        "deepnote_to_be_reexecuted": false,
        "deepnote_cell_type": "code",
        "id": "yiq6dmjXZ0P8"
      },
      "execution_count": 31,
      "outputs": []
    },
    {
      "cell_type": "markdown",
      "source": [
        "## Training (2 points)\n",
        "\n",
        "Training is a bit different than usual. We will need to sequentially (but in \"batch parallel\") go through an input, keeping track of the hidden layer, and use the last output as prediction.\n",
        "\n",
        "**\\[2 point\\]** Code the training loop.\n",
        "* Note that for each batch, you need to loop through the whole input and use the output of the last token as input to your criterion.\n",
        "* Keep the best model evaluated on the validation set.\n",
        "* Plot the training and validation losses.\n",
        "* Training will take some time (~30 min on a T4 GPU). Make sure your results appear in the notebook."
      ],
      "metadata": {
        "cell_id": "65a21582d4df4b73bda46198f9a76e2d",
        "deepnote_cell_type": "markdown",
        "id": "F9SMwXfYZ0P8"
      }
    },
    {
      "cell_type": "code",
      "source": [
        "device = \"cuda:0\" if torch.cuda.is_available() else \"cpu\"\n",
        "device"
      ],
      "metadata": {
        "cell_id": "defd993011c3413095a699f10b08c413",
        "source_hash": "dab3f107",
        "execution_start": 1684407220356,
        "execution_millis": 2,
        "deepnote_to_be_reexecuted": false,
        "deepnote_cell_type": "code",
        "colab": {
          "base_uri": "https://localhost:8080/",
          "height": 34
        },
        "id": "QrnvfISzZ0P8",
        "outputId": "8cb6fe17-0726-4f61-a69e-22eaf6cd68e0"
      },
      "execution_count": 32,
      "outputs": [
        {
          "output_type": "execute_result",
          "data": {
            "text/plain": [
              "'cuda:0'"
            ],
            "application/vnd.google.colaboratory.intrinsic+json": {
              "type": "string"
            }
          },
          "metadata": {},
          "execution_count": 32
        }
      ]
    },
    {
      "cell_type": "code",
      "source": [
        "n_embedding = 32\n",
        "n_hidden = 64\n",
        "model = RNN(len(vocabulary.get_itos()), n_embedding, n_hidden).to(device)\n",
        "criterion = nn.BCEWithLogitsLoss()\n",
        "optimizer = torch.optim.RMSprop(model.parameters(), lr=0.001)"
      ],
      "metadata": {
        "cell_id": "a7f44db03fa44023964247017cfb074c",
        "source_hash": "585f1763",
        "execution_start": 1684407220360,
        "execution_millis": 14,
        "deepnote_to_be_reexecuted": false,
        "deepnote_cell_type": "code",
        "id": "SbYARy5DZ0P8"
      },
      "execution_count": 48,
      "outputs": []
    },
    {
      "cell_type": "code",
      "source": [
        "EPOCHS = 10\n",
        "\n",
        "train_losses = []\n",
        "valid_losses = []\n",
        "best_model = None\n",
        "best_valid_loss = np.inf\n",
        "\n",
        "for n_epoch in tqdm(range(EPOCHS)):\n",
        "    model.train()\n",
        "    train_loss = 0\n",
        "\n",
        "    # Train the RNN on each batch\n",
        "    for X_batch, y_batch in train_gen():\n",
        "        hidden = model.init_hidden(X_batch.shape[0])\n",
        "        X_batch, y_batch, hidden = X_batch.to(device), y_batch.to(device), hidden.to(device)\n",
        "\n",
        "        for i in range(X_batch.size()[1]):\n",
        "            output, hidden = model(X_batch[:, i], hidden)\n",
        "        \n",
        "        # Compute the loss\n",
        "        loss = criterion(output.squeeze(), y_batch)\n",
        "        optimizer.zero_grad()\n",
        "        loss.backward()\n",
        "        optimizer.step()\n",
        "    \n",
        "    train_losses.append(np.mean(loss.item()))\n",
        "\n",
        "    model.eval() \n",
        "    # Compute loss validation for each batch\n",
        "    for X_batch, y_batch in valid_gen():\n",
        "        hidden = model.init_hidden(X_batch.shape[0])\n",
        "        X_batch, y_batch, hidden = X_batch.to(device), y_batch.to(device), hidden.to(device)\n",
        "\n",
        "        loss = 0\n",
        "        for i in range(X_batch.size()[1]):\n",
        "            output, hidden = model(X_batch[:, i], hidden)\n",
        "        loss = criterion(output.squeeze(), y_batch)\n",
        "            \n",
        "    valid_losses.append(np.mean(loss.item()))\n",
        "\n",
        "    if np.mean(loss.item()) < best_valid_loss:\n",
        "        best_valid_loss = np.mean(loss.item())\n",
        "        best_model = copy.deepcopy(model)\n",
        "    \n",
        "    print(f\"Epoch {n_epoch + 1}/{EPOCHS} | Training loss: {train_losses[-1]} | Validation loss: {valid_losses[-1]}\")"
      ],
      "metadata": {
        "cell_id": "76b73d1816f9457a816a70cacf7c5f80",
        "source_hash": "2cae16ff",
        "execution_start": 1684407313797,
        "execution_millis": 5970833,
        "deepnote_to_be_reexecuted": false,
        "deepnote_cell_type": "code",
        "colab": {
          "base_uri": "https://localhost:8080/",
          "height": 223,
          "referenced_widgets": [
            "6ff5c8f96827481bb6f7dca26bcf7491",
            "867939261caf4bb6bfad25f32bad944e",
            "0df256f5f0944a178f3f3611488cb011",
            "70a6f48f905948f1905f65b4dc859e31",
            "ac24074f96e445f18672e7487fec575c",
            "cfdb2077624142c9a957c4f24de887e4",
            "7876be242c1344309932e898e60d8aaf",
            "d8464b1d59194da981b30bc7a379b33e",
            "67148db135b7468b81fb260f6d502c12",
            "7388f854cef74b729b880f5450b963bc",
            "05c821bc8d4a4250a70895d8bff9b597"
          ]
        },
        "id": "NmzVE7nCZ0P-",
        "outputId": "e96c59da-d9ff-4e35-8971-760ed546dfd1"
      },
      "execution_count": 49,
      "outputs": [
        {
          "output_type": "display_data",
          "data": {
            "text/plain": [
              "  0%|          | 0/10 [00:00<?, ?it/s]"
            ],
            "application/vnd.jupyter.widget-view+json": {
              "version_major": 2,
              "version_minor": 0,
              "model_id": "6ff5c8f96827481bb6f7dca26bcf7491"
            }
          },
          "metadata": {}
        },
        {
          "output_type": "stream",
          "name": "stdout",
          "text": [
            "Epoch 1/10 | Training loss: 0.657284140586853 | Validation loss: 0.6537504196166992\n",
            "Epoch 2/10 | Training loss: 0.6770758032798767 | Validation loss: 0.6533492803573608\n",
            "Epoch 3/10 | Training loss: 0.6592229604721069 | Validation loss: 0.6025879979133606\n",
            "Epoch 4/10 | Training loss: 0.581795871257782 | Validation loss: 0.590269923210144\n",
            "Epoch 5/10 | Training loss: 0.49386799335479736 | Validation loss: 0.46820375323295593\n",
            "Epoch 6/10 | Training loss: 0.4898971915245056 | Validation loss: 0.5096935629844666\n",
            "Epoch 7/10 | Training loss: 0.3739107847213745 | Validation loss: 0.3451026976108551\n",
            "Epoch 8/10 | Training loss: 0.4082953929901123 | Validation loss: 0.4388048052787781\n",
            "Epoch 9/10 | Training loss: 0.389580100774765 | Validation loss: 0.38301438093185425\n",
            "Epoch 10/10 | Training loss: 0.341602087020874 | Validation loss: 0.43310752511024475\n"
          ]
        }
      ]
    },
    {
      "cell_type": "code",
      "source": [
        "plt.plot(train_losses, label=\"Training loss\")\n",
        "plt.plot(valid_losses, label=\"Validation loss\")\n",
        "plt.legend();"
      ],
      "metadata": {
        "colab": {
          "base_uri": "https://localhost:8080/",
          "height": 430
        },
        "id": "8Omdxgv0pxDn",
        "outputId": "07a37106-9dd7-4fae-a5d8-e59da96b328d"
      },
      "execution_count": 51,
      "outputs": [
        {
          "output_type": "display_data",
          "data": {
            "text/plain": [
              "<Figure size 640x480 with 1 Axes>"
            ],
            "image/png": "[encoded data removed]"
          },
          "metadata": {}
        }
      ]
    },
    {
      "cell_type": "markdown",
      "source": [
        "## Evaluation (1 point)\n",
        "\n",
        "* **\\[1 point\\]** Compute the accuracy for all 3 splits."
      ],
      "metadata": {
        "cell_id": "f32b7a10989d4634b490bb80d091f15c",
        "deepnote_cell_type": "markdown",
        "id": "QZld9gTKZ0P-"
      }
    },
    {
      "cell_type": "code",
      "source": [
        "def accuracy(model: nn.Module, gen: Generator) -> float:\n",
        "    \"\"\"\n",
        "    Compute the accuracy of a model on a given dataset.\n",
        "    :param model: Model to evaluate.\n",
        "    :param gen: generator function returning a batch (X, y).\n",
        "    :return: the accuracy of the model on the given dataset.\n",
        "    \"\"\"\n",
        "    model.eval()\n",
        "    \n",
        "    correct_sample = 0\n",
        "    tot_sample = 0\n",
        "    for X_batch, y_batch in gen():\n",
        "        hidden = model.init_hidden(X_batch.shape[0])\n",
        "        X_batch, y_batch, hidden = X_batch.to(device), y_batch.to(device), hidden.to(device)\n",
        "\n",
        "        for i in range(X_batch.size()[1]):\n",
        "            output, hidden = model(X_batch[:, i], hidden)\n",
        "        \n",
        "        # Sigmoid for binary classification.\n",
        "        y_pred = torch.sigmoid(output.squeeze())\n",
        "        y_pred = torch.round(y_pred)\n",
        "\n",
        "        correct_sample += (y_pred == y_batch).sum().item()\n",
        "        tot_sample += y_batch.size(0)\n",
        "\n",
        "    return correct_sample / tot_sample"
      ],
      "metadata": {
        "cell_id": "027dcb74e12048da80a96c3ba0495354",
        "source_hash": "b623e53d",
        "execution_start": 1684402404587,
        "execution_millis": 44,
        "deepnote_to_be_reexecuted": true,
        "deepnote_cell_type": "code",
        "id": "iAKEyXURZ0P-"
      },
      "execution_count": 56,
      "outputs": []
    },
    {
      "cell_type": "code",
      "source": [
        "print(f\"Accuracy : Train {accuracy(model, train_gen)} Valid {accuracy(model, valid_gen)} Test {accuracy(model, test_gen)}\")"
      ],
      "metadata": {
        "colab": {
          "base_uri": "https://localhost:8080/"
        },
        "id": "GrIgqWaOazZi",
        "outputId": "6f65e145-4fd8-44f0-dca5-9bd76e691319"
      },
      "execution_count": 57,
      "outputs": [
        {
          "output_type": "stream",
          "name": "stdout",
          "text": [
            "Accuracy : Train 0.84775 Valid 0.79 Test 0.78888\n"
          ]
        }
      ]
    }
  ]
}